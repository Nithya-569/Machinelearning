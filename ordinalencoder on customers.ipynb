{
 "cells": [
  {
   "cell_type": "code",
   "execution_count": 7,
   "id": "1490b356-bb03-4d85-ac4c-28ac23d76bb1",
   "metadata": {},
   "outputs": [],
   "source": [
    "import pandas as pd\n",
    "import numpy as np\n",
    "\n"
   ]
  },
  {
   "cell_type": "code",
   "execution_count": 8,
   "id": "7c47ba93-a4c2-4fd7-a7cc-d1ae6fbac1d5",
   "metadata": {},
   "outputs": [
    {
     "name": "stdout",
     "output_type": "stream",
     "text": [
      "<class 'pandas.core.frame.DataFrame'>\n",
      "RangeIndex: 50 entries, 0 to 49\n",
      "Data columns (total 5 columns):\n",
      " #   Column     Non-Null Count  Dtype \n",
      "---  ------     --------------  ----- \n",
      " 0   age        50 non-null     int64 \n",
      " 1   gender     50 non-null     object\n",
      " 2   review     50 non-null     object\n",
      " 3   education  50 non-null     object\n",
      " 4   purchased  50 non-null     object\n",
      "dtypes: int64(1), object(4)\n",
      "memory usage: 2.1+ KB\n"
     ]
    }
   ],
   "source": [
    "df=pd.read_csv(r\"C:\\Users\\msnit\\Downloads\\customer.csv\")\n",
    "df.sample(5,random_state=42)\n",
    "df.info()"
   ]
  },
  {
   "cell_type": "code",
   "execution_count": 9,
   "id": "cec901b7-ca5f-449c-a927-58271aefd2a0",
   "metadata": {},
   "outputs": [
    {
     "data": {
      "text/plain": [
       "Index(['age', 'gender', 'review', 'education', 'purchased'], dtype='object')"
      ]
     },
     "execution_count": 9,
     "metadata": {},
     "output_type": "execute_result"
    }
   ],
   "source": [
    "df.columns\n",
    "\n"
   ]
  },
  {
   "cell_type": "code",
   "execution_count": 10,
   "id": "3cb0403f-fbb5-4e7e-b079-77b03d6bf368",
   "metadata": {},
   "outputs": [],
   "source": [
    "df=df.drop('age',axis=1)"
   ]
  },
  {
   "cell_type": "code",
   "execution_count": 31,
   "id": "63e5ccfd-0ff3-4096-a2f5-cf1c23b5c782",
   "metadata": {},
   "outputs": [
    {
     "data": {
      "text/html": [
       "<div>\n",
       "<style scoped>\n",
       "    .dataframe tbody tr th:only-of-type {\n",
       "        vertical-align: middle;\n",
       "    }\n",
       "\n",
       "    .dataframe tbody tr th {\n",
       "        vertical-align: top;\n",
       "    }\n",
       "\n",
       "    .dataframe thead th {\n",
       "        text-align: right;\n",
       "    }\n",
       "</style>\n",
       "<table border=\"1\" class=\"dataframe\">\n",
       "  <thead>\n",
       "    <tr style=\"text-align: right;\">\n",
       "      <th></th>\n",
       "      <th>gender</th>\n",
       "      <th>review</th>\n",
       "      <th>education</th>\n",
       "      <th>purchased</th>\n",
       "    </tr>\n",
       "  </thead>\n",
       "  <tbody>\n",
       "    <tr>\n",
       "      <th>37</th>\n",
       "      <td>Male</td>\n",
       "      <td>Average</td>\n",
       "      <td>PG</td>\n",
       "      <td>Yes</td>\n",
       "    </tr>\n",
       "    <tr>\n",
       "      <th>23</th>\n",
       "      <td>Female</td>\n",
       "      <td>Good</td>\n",
       "      <td>School</td>\n",
       "      <td>No</td>\n",
       "    </tr>\n",
       "    <tr>\n",
       "      <th>44</th>\n",
       "      <td>Female</td>\n",
       "      <td>Average</td>\n",
       "      <td>UG</td>\n",
       "      <td>No</td>\n",
       "    </tr>\n",
       "    <tr>\n",
       "      <th>42</th>\n",
       "      <td>Female</td>\n",
       "      <td>Good</td>\n",
       "      <td>PG</td>\n",
       "      <td>Yes</td>\n",
       "    </tr>\n",
       "    <tr>\n",
       "      <th>47</th>\n",
       "      <td>Female</td>\n",
       "      <td>Good</td>\n",
       "      <td>PG</td>\n",
       "      <td>Yes</td>\n",
       "    </tr>\n",
       "  </tbody>\n",
       "</table>\n",
       "</div>"
      ],
      "text/plain": [
       "    gender   review education purchased\n",
       "37    Male  Average        PG       Yes\n",
       "23  Female     Good    School        No\n",
       "44  Female  Average        UG        No\n",
       "42  Female     Good        PG       Yes\n",
       "47  Female     Good        PG       Yes"
      ]
     },
     "execution_count": 31,
     "metadata": {},
     "output_type": "execute_result"
    }
   ],
   "source": [
    "\n",
    "X=df.drop('purchased',axis=1)\n",
    "y=df['purchased']\n",
    "df.sample(5,random_state=10)"
   ]
  },
  {
   "cell_type": "code",
   "execution_count": 24,
   "id": "b55e0142-bbf2-4b10-91fd-48e55c37b857",
   "metadata": {},
   "outputs": [
    {
     "data": {
      "text/plain": [
       "(50, 4)"
      ]
     },
     "execution_count": 24,
     "metadata": {},
     "output_type": "execute_result"
    }
   ],
   "source": [
    "from sklearn.model_selection import train_test_split\n",
    "from sklearn.preprocessing import LabelEncoder,OrdinalEncoder\n",
    "df.shape"
   ]
  },
  {
   "cell_type": "code",
   "execution_count": 25,
   "id": "2e2cfb7a-32c2-4705-b080-0a25daf77970",
   "metadata": {},
   "outputs": [],
   "source": [
    " X_train, X_test, y_train, y_test = train_test_split(X, y, test_size=0.22, random_state=5)"
   ]
  },
  {
   "cell_type": "code",
   "execution_count": 26,
   "id": "5769d6a3-2878-4eb1-8f78-7cbd34f93f92",
   "metadata": {},
   "outputs": [],
   "source": [
    "Encoding=OrdinalEncoder()"
   ]
  },
  {
   "cell_type": "code",
   "execution_count": 27,
   "id": "bcdc07fe-e642-4a10-ad5a-ffa4a757ee04",
   "metadata": {},
   "outputs": [],
   "source": [
    "TrainedOE=Encoding.fit_transform(X_train)"
   ]
  },
  {
   "cell_type": "code",
   "execution_count": 36,
   "id": "b874d315-b863-44d4-85e4-816e364f69f4",
   "metadata": {},
   "outputs": [
    {
     "data": {
      "text/plain": [
       "array([[0., 0., 2.],\n",
       "       [1., 0., 2.],\n",
       "       [0., 0., 1.],\n",
       "       [0., 1., 1.],\n",
       "       [0., 0., 1.],\n",
       "       [0., 1., 2.],\n",
       "       [1., 0., 1.],\n",
       "       [1., 0., 0.],\n",
       "       [0., 2., 0.],\n",
       "       [1., 1., 0.],\n",
       "       [0., 1., 0.],\n",
       "       [0., 0., 0.],\n",
       "       [0., 1., 2.],\n",
       "       [0., 0., 2.],\n",
       "       [0., 1., 1.],\n",
       "       [1., 1., 1.],\n",
       "       [0., 2., 0.],\n",
       "       [0., 0., 1.],\n",
       "       [0., 1., 2.],\n",
       "       [0., 2., 2.],\n",
       "       [1., 1., 2.],\n",
       "       [0., 0., 1.],\n",
       "       [1., 1., 1.],\n",
       "       [0., 2., 0.],\n",
       "       [1., 2., 2.],\n",
       "       [1., 2., 1.],\n",
       "       [0., 2., 1.],\n",
       "       [1., 2., 0.],\n",
       "       [1., 0., 2.],\n",
       "       [0., 2., 0.],\n",
       "       [1., 2., 0.],\n",
       "       [0., 1., 2.],\n",
       "       [0., 0., 2.],\n",
       "       [1., 1., 2.],\n",
       "       [1., 2., 2.],\n",
       "       [0., 1., 1.],\n",
       "       [0., 1., 0.],\n",
       "       [1., 2., 0.],\n",
       "       [1., 2., 1.]])"
      ]
     },
     "execution_count": 36,
     "metadata": {},
     "output_type": "execute_result"
    }
   ],
   "source": [
    "TrainedOE\n"
   ]
  },
  {
   "cell_type": "code",
   "execution_count": 32,
   "id": "140bc92a-50d3-406b-8196-cdfb8b750f75",
   "metadata": {},
   "outputs": [],
   "source": [
    "Tested_OE=Encoding.transform(X_test)\n"
   ]
  },
  {
   "cell_type": "code",
   "execution_count": 33,
   "id": "20c81420-92f1-415b-a7a1-941f360fa78c",
   "metadata": {},
   "outputs": [
    {
     "data": {
      "text/plain": [
       "array([[0., 1., 0.],\n",
       "       [0., 0., 2.],\n",
       "       [1., 1., 1.],\n",
       "       [1., 2., 0.],\n",
       "       [1., 2., 1.],\n",
       "       [0., 2., 2.],\n",
       "       [0., 1., 0.],\n",
       "       [1., 2., 0.],\n",
       "       [0., 1., 0.],\n",
       "       [1., 0., 0.],\n",
       "       [0., 2., 1.]])"
      ]
     },
     "execution_count": 33,
     "metadata": {},
     "output_type": "execute_result"
    }
   ],
   "source": [
    "Tested_OE"
   ]
  },
  {
   "cell_type": "code",
   "execution_count": null,
   "id": "fdfc93c5-3741-47b6-b701-22009b340d8b",
   "metadata": {},
   "outputs": [],
   "source": []
  }
 ],
 "metadata": {
  "kernelspec": {
   "display_name": "Python 3 (ipykernel)",
   "language": "python",
   "name": "python3"
  },
  "language_info": {
   "codemirror_mode": {
    "name": "ipython",
    "version": 3
   },
   "file_extension": ".py",
   "mimetype": "text/x-python",
   "name": "python",
   "nbconvert_exporter": "python",
   "pygments_lexer": "ipython3",
   "version": "3.9.21"
  }
 },
 "nbformat": 4,
 "nbformat_minor": 5
}
