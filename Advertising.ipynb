{
 "cells": [
  {
   "cell_type": "code",
   "execution_count": 15,
   "id": "5cd6f878-34c6-4476-91f0-5a216c756712",
   "metadata": {},
   "outputs": [],
   "source": [
    "import pandas as pd\n",
    "import seaborn as sns\n",
    "import matplotlib.pyplot as plt\n",
    "from sklearn.preprocessing import StandardScaler\n",
    "from sklearn.model_selection import train_test_split\n",
    "from sklearn.metrics import mean_squared_error\n",
    "from sklearn.linear_model import Ridge"
   ]
  },
  {
   "cell_type": "code",
   "execution_count": 6,
   "id": "2690f2ee-7de5-4b32-8dce-eb0e5d6dd553",
   "metadata": {},
   "outputs": [
    {
     "data": {
      "text/html": [
       "<div>\n",
       "<style scoped>\n",
       "    .dataframe tbody tr th:only-of-type {\n",
       "        vertical-align: middle;\n",
       "    }\n",
       "\n",
       "    .dataframe tbody tr th {\n",
       "        vertical-align: top;\n",
       "    }\n",
       "\n",
       "    .dataframe thead th {\n",
       "        text-align: right;\n",
       "    }\n",
       "</style>\n",
       "<table border=\"1\" class=\"dataframe\">\n",
       "  <thead>\n",
       "    <tr style=\"text-align: right;\">\n",
       "      <th></th>\n",
       "      <th>TV</th>\n",
       "      <th>radio</th>\n",
       "      <th>newspaper</th>\n",
       "      <th>sales</th>\n",
       "    </tr>\n",
       "  </thead>\n",
       "  <tbody>\n",
       "    <tr>\n",
       "      <th>86</th>\n",
       "      <td>76.3</td>\n",
       "      <td>27.5</td>\n",
       "      <td>16.0</td>\n",
       "      <td>12.0</td>\n",
       "    </tr>\n",
       "    <tr>\n",
       "      <th>114</th>\n",
       "      <td>78.2</td>\n",
       "      <td>46.8</td>\n",
       "      <td>34.5</td>\n",
       "      <td>14.6</td>\n",
       "    </tr>\n",
       "    <tr>\n",
       "      <th>186</th>\n",
       "      <td>139.5</td>\n",
       "      <td>2.1</td>\n",
       "      <td>26.6</td>\n",
       "      <td>10.3</td>\n",
       "    </tr>\n",
       "    <tr>\n",
       "      <th>57</th>\n",
       "      <td>136.2</td>\n",
       "      <td>19.2</td>\n",
       "      <td>16.6</td>\n",
       "      <td>13.2</td>\n",
       "    </tr>\n",
       "    <tr>\n",
       "      <th>191</th>\n",
       "      <td>75.5</td>\n",
       "      <td>10.8</td>\n",
       "      <td>6.0</td>\n",
       "      <td>9.9</td>\n",
       "    </tr>\n",
       "  </tbody>\n",
       "</table>\n",
       "</div>"
      ],
      "text/plain": [
       "        TV  radio  newspaper  sales\n",
       "86    76.3   27.5       16.0   12.0\n",
       "114   78.2   46.8       34.5   14.6\n",
       "186  139.5    2.1       26.6   10.3\n",
       "57   136.2   19.2       16.6   13.2\n",
       "191   75.5   10.8        6.0    9.9"
      ]
     },
     "execution_count": 6,
     "metadata": {},
     "output_type": "execute_result"
    }
   ],
   "source": [
    "df=pd.read_csv(r\"C:\\Users\\msnit\\OneDrive\\Desktop\\ml course\\08-Linear-Regression-Models\\Advertising.csv\")\n",
    "df.sample(5)"
   ]
  },
  {
   "cell_type": "code",
   "execution_count": 16,
   "id": "f0077361-c742-4daa-af4f-00be7b7009b6",
   "metadata": {},
   "outputs": [],
   "source": [
    "X=df.drop('sales',axis=1)\n",
    "y=df['sales']"
   ]
  },
  {
   "cell_type": "code",
   "execution_count": 13,
   "id": "0c03849b-4ee4-4e34-a38f-358598330148",
   "metadata": {},
   "outputs": [],
   "source": [
    "X_train, X_test, y_train, y_test = train_test_split(X, y, test_size=0.33, random_state=100)\n",
    "scaler = StandardScaler()              \n",
    "scaler.fit(X_train)                    \n",
    "X_train_scaled = scaler.transform(X_train) \n",
    "X_test_scaled = scaler.transform(X_test)    \n",
    "\n"
   ]
  },
  {
   "cell_type": "code",
   "execution_count": 18,
   "id": "b284ba07-9e02-4f72-88c2-87fd1a4ffa09",
   "metadata": {},
   "outputs": [],
   "source": [
    "from sklearn.linear_model import Ridge\n",
    "\n",
    "model = Ridge(alpha=1.0)                 # Step 1: Create Ridge model (alpha is the regularization strength)\n",
    "model.fit(X_train_scaled, y_train)       # Step 2: Fit the model on training data\n",
    "y_pred = model.predict(X_test_scaled)    # Step 3: Predict on test data\n"
   ]
  },
  {
   "cell_type": "code",
   "execution_count": 19,
   "id": "361f9967-6d8d-41ac-a6e0-3a8c7c5f9327",
   "metadata": {},
   "outputs": [],
   "source": [
    "data=mean_squared_error(y_test,y_pred)"
   ]
  },
  {
   "cell_type": "code",
   "execution_count": 20,
   "id": "ca43f152-1b95-4146-9f61-6a7d18bd0dfa",
   "metadata": {},
   "outputs": [
    {
     "data": {
      "text/plain": [
       "1.971522336601599"
      ]
     },
     "execution_count": 20,
     "metadata": {},
     "output_type": "execute_result"
    }
   ],
   "source": [
    "data"
   ]
  },
  {
   "cell_type": "code",
   "execution_count": 26,
   "id": "9230f091-9b79-4472-b8a7-03f09065793d",
   "metadata": {},
   "outputs": [],
   "source": [
    "from sklearn.linear_model import Ridge\n",
    "Model=Ridge(alpha=100)\n",
    "Model.fit(X_train_scaled,y_train)\n",
    "y_predd=Model.predict(X_test_scaled)\n",
    "data2=mean_squared_error(y_test,y_predd)"
   ]
  },
  {
   "cell_type": "code",
   "execution_count": 27,
   "id": "bb7951fb-1224-4e9a-aa9e-8887cc955bef",
   "metadata": {},
   "outputs": [
    {
     "data": {
      "text/plain": [
       "5.690259488903559"
      ]
     },
     "execution_count": 27,
     "metadata": {},
     "output_type": "execute_result"
    }
   ],
   "source": [
    "\n",
    "data2\n"
   ]
  },
  {
   "cell_type": "code",
   "execution_count": 31,
   "id": "83f9f7bb-7b2f-451c-ba86-cea7112efccf",
   "metadata": {},
   "outputs": [
    {
     "data": {
      "text/plain": [
       "2.4236504562318095"
      ]
     },
     "execution_count": 31,
     "metadata": {},
     "output_type": "execute_result"
    }
   ],
   "source": [
    "from sklearn.linear_model import Ridge\n",
    "Models=Ridge(alpha=20)\n",
    "Models.fit(X_train_scaled,y_train)\n",
    "y_predicted=Models.predict(X_test_scaled)\n",
    "data3=mean_squared_error(y_test,y_predicted)\n",
    "data3"
   ]
  },
  {
   "cell_type": "code",
   "execution_count": null,
   "id": "cd8a92be-30d0-42db-9c5a-777f6b9bb071",
   "metadata": {},
   "outputs": [],
   "source": []
  }
 ],
 "metadata": {
  "kernelspec": {
   "display_name": "Python 3 (ipykernel)",
   "language": "python",
   "name": "python3"
  },
  "language_info": {
   "codemirror_mode": {
    "name": "ipython",
    "version": 3
   },
   "file_extension": ".py",
   "mimetype": "text/x-python",
   "name": "python",
   "nbconvert_exporter": "python",
   "pygments_lexer": "ipython3",
   "version": "3.9.21"
  }
 },
 "nbformat": 4,
 "nbformat_minor": 5
}
